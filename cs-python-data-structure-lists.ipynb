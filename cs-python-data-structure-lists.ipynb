{
 "cells": [
  {
   "cell_type": "markdown",
   "metadata": {},
   "source": [
    "# Lists\n",
    "\n",
    "## List Exercises\n",
    "For all of these exercises you will need either\n",
    "\n",
    "1) A list of numbers: numList = [1,5,6,2,3,4,5]\n",
    "\n",
    "2) A list of strings: wordList = [\"apple\", \"banana\", \"grape\", \"cinnamon\", \"apple\", \"eggplant\", \"falafel\", \"grape\", \"grape\"]\n",
    "\n",
    "They have been defined for you in the first code cell below"
   ]
  },
  {
   "cell_type": "markdown",
   "metadata": {},
   "source": [
    "## Task 1: What error do you get when you run the code below? How will you define this error?"
   ]
  },
  {
   "cell_type": "code",
   "execution_count": 1,
   "metadata": {
    "scrolled": true
   },
   "outputs": [
    {
     "name": "stdout",
     "output_type": "stream",
     "text": [
      "7\n",
      "4\n"
     ]
    },
    {
     "ename": "IndexError",
     "evalue": "list index out of range",
     "output_type": "error",
     "traceback": [
      "\u001b[0;31m---------------------------------------------------------------------------\u001b[0m",
      "\u001b[0;31mIndexError\u001b[0m                                Traceback (most recent call last)",
      "\u001b[0;32m<ipython-input-1-0321cdb11a5c>\u001b[0m in \u001b[0;36m<module>\u001b[0;34m()\u001b[0m\n\u001b[1;32m      3\u001b[0m \u001b[0mprint\u001b[0m\u001b[0;34m(\u001b[0m\u001b[0mx\u001b[0m\u001b[0;34m)\u001b[0m\u001b[0;34m\u001b[0m\u001b[0m\n\u001b[1;32m      4\u001b[0m \u001b[0mprint\u001b[0m\u001b[0;34m(\u001b[0m\u001b[0mnumList\u001b[0m\u001b[0;34m[\u001b[0m\u001b[0;36m5\u001b[0m\u001b[0;34m]\u001b[0m\u001b[0;34m)\u001b[0m\u001b[0;34m\u001b[0m\u001b[0m\n\u001b[0;32m----> 5\u001b[0;31m \u001b[0mprint\u001b[0m \u001b[0;34m(\u001b[0m\u001b[0mnumList\u001b[0m\u001b[0;34m[\u001b[0m\u001b[0;36m9\u001b[0m\u001b[0;34m]\u001b[0m\u001b[0;34m)\u001b[0m\u001b[0;34m\u001b[0m\u001b[0m\n\u001b[0m",
      "\u001b[0;31mIndexError\u001b[0m: list index out of range"
     ]
    }
   ],
   "source": [
    "numList = [1,5,6,2,3,4,5]\n",
    "x = len(numList)\n",
    "print(x)\n",
    "print(numList[5])\n",
    "print (numList[9])\n",
    "\n",
    "# you get an index error.\n",
    "# this is because you are asking for the 10th number in the list and there are only 7 numbers."
   ]
  },
  {
   "cell_type": "markdown",
   "metadata": {},
   "source": [
    "## Iterating through the list and displaying the data items. "
   ]
  },
  {
   "cell_type": "code",
   "execution_count": 2,
   "metadata": {},
   "outputs": [
    {
     "name": "stdout",
     "output_type": "stream",
     "text": [
      "1\n",
      "5\n",
      "6\n",
      "2\n",
      "3\n",
      "4\n",
      "5\n"
     ]
    }
   ],
   "source": [
    "numList = [1,5,6,2,3,4,5]\n",
    "\n",
    "for x in numList: \n",
    "    print(x)"
   ]
  },
  {
   "cell_type": "code",
   "execution_count": 13,
   "metadata": {},
   "outputs": [
    {
     "name": "stdout",
     "output_type": "stream",
     "text": [
      "apple\n",
      "banana\n",
      "grape\n",
      "cinnamon\n",
      "apple\n",
      "eggplant\n",
      "falafel\n",
      "grape\n",
      "grape\n"
     ]
    }
   ],
   "source": [
    "wordList = [\"apple\", \"banana\", \"grape\", \"cinnamon\", \"apple\", \"eggplant\", \"falafel\", \"grape\", \"grape\"]\n",
    " \n",
    "for i in range(len(wordList)):\n",
    "    print(wordList[i])"
   ]
  },
  {
   "cell_type": "markdown",
   "metadata": {},
   "source": [
    "## Task 2:  list1 and list 2 are defined. Append and extend methods to add items in the list. Comment the code below explaining the difference between append and extend methods."
   ]
  },
  {
   "cell_type": "code",
   "execution_count": 14,
   "metadata": {},
   "outputs": [
    {
     "name": "stdout",
     "output_type": "stream",
     "text": [
      "['elephant', 'tiger', ['cat']]\n",
      "['elephant', 'tiger', 'dog', 'mouse']\n"
     ]
    }
   ],
   "source": [
    "list1 = [\"elephant\", \"tiger\"]                     # A new empty list\n",
    "list1.append([\"cat\"])             # Add a single member, at the end of the list. Adds the infomation to the end of the list as it is writtern\n",
    "print(list1)\n",
    "\n",
    "list1 = [\"elephant\", \"tiger\"]\n",
    "\n",
    "list1.extend([\"dog\", \"mouse\"])  # Add several members. Adds the information to the end of list as part of the list \n",
    "\n",
    "print(list1)"
   ]
  },
  {
   "cell_type": "markdown",
   "metadata": {},
   "source": [
    "## Task 3: Use insert/remove method to add/delete a data item to/from the list "
   ]
  },
  {
   "cell_type": "code",
   "execution_count": 39,
   "metadata": {},
   "outputs": [
    {
     "name": "stdout",
     "output_type": "stream",
     "text": [
      "['frog', 'frog', 'fly', 'frog', 'frog', 'fly', 'elephant', 'tiger', 'dog', 'mouse']\n"
     ]
    }
   ],
   "source": [
    "list1.insert(3, \"fly\")          # Insert at the beginning\n",
    "list1[0:0] = [\"frog\"]     # Add members at the beginning\n",
    "doe = list1.pop(1)              # Remove item at index\n",
    "if \"frog\" in list1:              # Membership test\n",
    "  list1.remove(\"frog\")           # Remove AKA delete\n",
    "\n",
    "print(list1)"
   ]
  },
  {
   "cell_type": "markdown",
   "metadata": {},
   "source": [
    "## How to use in operator in the list"
   ]
  },
  {
   "cell_type": "code",
   "execution_count": 16,
   "metadata": {
    "scrolled": true
   },
   "outputs": [
    {
     "name": "stdout",
     "output_type": "stream",
     "text": [
      "cow\n",
      "fly\n",
      "elephant\n",
      "tiger\n",
      "dog\n",
      "mouse\n",
      "Item count: 6\n"
     ]
    }
   ],
   "source": [
    "for item in list1:              # Iteration AKA for each item\n",
    "  print(item)\n",
    "print(\"Item count:\", len(list1)) # Length AKA size AKA item count"
   ]
  },
  {
   "cell_type": "markdown",
   "metadata": {},
   "source": [
    "## Task 4: Write a function which finds all string elements in a list matching \"find\" and replaces them with the string \"replace\""
   ]
  },
  {
   "cell_type": "code",
   "execution_count": 55,
   "metadata": {},
   "outputs": [],
   "source": [
    "#This function finds all the string elements in a list matching \"find\" and replaces them with the string \"replace\"\n",
    "\n",
    "def listFindReplace(aList, findWord, replaceWord):\n",
    "    newList = [] # a new empty list\n",
    "    newList.extend(aList)\n",
    "    for count in range (len(newList)):\n",
    "        if newList[count] == findWord:\n",
    "            newList.remove(findWord)\n",
    "            newList.insert(count,replaceWord)\n",
    "     #write your code here\n",
    "        \n",
    "    #finally return the new list    \n",
    "    return newList"
   ]
  },
  {
   "cell_type": "code",
   "execution_count": 56,
   "metadata": {},
   "outputs": [
    {
     "name": "stdout",
     "output_type": "stream",
     "text": [
      "['apple', 'banana', 'ada', 'cinnamon', 'apple', 'eggplant', 'falafel', 'ada', 'ada']\n"
     ]
    }
   ],
   "source": [
    "#test your code here\n",
    "word_List = [\"apple\", \"banana\", \"grape\", \"cinnamon\", \"apple\", \"eggplant\", \"falafel\", \"grape\", \"grape\"]\n",
    "newList =listFindReplace(word_List, \"grape\", \"ada\")\n",
    "print(newList)\n",
    "newList = listFindReplace([\"hello\", \"hello\", \"hello\"], \"hello\", \"world\")"
   ]
  },
  {
   "cell_type": "markdown",
   "metadata": {},
   "source": [
    "## Slicing Lists \n",
    "## Task 5: Run the code below and comment each line of the code"
   ]
  },
  {
   "cell_type": "code",
   "execution_count": 60,
   "metadata": {},
   "outputs": [
    {
     "name": "stdout",
     "output_type": "stream",
     "text": [
      "['apple', 'banana', 'grape', 'cinnamon', 'apple', 'eggplant', 'falafel', 'grape']\n",
      "['apple', 'banana', 'grape', 'cinnamon', 'apple', 'eggplant', 'falafel', 'grape', 'grape']\n",
      "['banana', 'grape', 'cinnamon', 'apple']\n",
      "['apple', 'banana', 'grape', 'cinnamon', 'apple', 'eggplant', 'falafel', 'grape', 'grape']\n",
      "[]\n",
      "['apple', 'eggplant']\n",
      "['grape', 'grape', 'falafel', 'eggplant', 'apple', 'cinnamon', 'grape', 'banana']\n",
      "['grape', 'grape', 'falafel', 'eggplant', 'apple', 'cinnamon', 'grape', 'banana', 'apple']\n"
     ]
    }
   ],
   "source": [
    "myList = [\"apple\", \"banana\", \"grape\", \"cinnamon\", \"apple\", \"eggplant\", \"falafel\", \"grape\", \"grape\"]\n",
    "\n",
    "print(myList[0:8]) # prints out the list 0-7\n",
    "\n",
    "print(myList[0:len(myList)]) # prints out all of the list\n",
    "\n",
    "print(myList[1:5]) # prints out the list 1-4\n",
    "\n",
    "print(myList[:]) # prints out all of the list\n",
    "\n",
    "print(myList[4:2]) # prints nothing\n",
    "\n",
    "print(myList[4:-3]) # 4 from the left 3 from the right\n",
    "\n",
    "print(myList[len(myList):0:-1]) # prints the list in reverse with one less at the end\n",
    "\n",
    "print(myList[len(myList)::-1]) # "
   ]
  }
 ],
 "metadata": {
  "kernelspec": {
   "display_name": "Python 3",
   "language": "python",
   "name": "python3"
  },
  "language_info": {
   "codemirror_mode": {
    "name": "ipython",
    "version": 3
   },
   "file_extension": ".py",
   "mimetype": "text/x-python",
   "name": "python",
   "nbconvert_exporter": "python",
   "pygments_lexer": "ipython3",
   "version": "3.6.6"
  }
 },
 "nbformat": 4,
 "nbformat_minor": 2
}
